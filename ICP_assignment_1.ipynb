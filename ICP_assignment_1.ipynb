{
  "cells": [
    {
      "cell_type": "code",
      "execution_count": 9,
      "metadata": {
        "colab": {
          "base_uri": "https://localhost:8080/"
        },
        "id": "zhHXI56XhtX7",
        "outputId": "3fae2d1e-1647-4a45-d4dd-9f837613effd"
      },
      "outputs": [
        {
          "output_type": "stream",
          "name": "stdout",
          "text": [
            "Naïve Bayes\n",
            "Total number of points: 43\n",
            "Mislabeled points : 21\n",
            "Accuracy 51.16%\n",
            "\n",
            "\n",
            "              precision    recall  f1-score   support\n",
            "\n",
            "           1       0.57      0.60      0.59        20\n",
            "           2       0.40      0.18      0.25        11\n",
            "           3       0.11      1.00      0.20         1\n",
            "           5       0.00      0.00      0.00         2\n",
            "           6       1.00      1.00      1.00         1\n",
            "           7       1.00      0.75      0.86         8\n",
            "\n",
            "    accuracy                           0.51        43\n",
            "   macro avg       0.51      0.59      0.48        43\n",
            "weighted avg       0.58      0.51      0.52        43\n",
            "\n"
          ]
        },
        {
          "output_type": "stream",
          "name": "stderr",
          "text": [
            "/usr/local/lib/python3.10/dist-packages/sklearn/base.py:432: UserWarning: X has feature names, but GaussianNB was fitted without feature names\n",
            "  warnings.warn(\n"
          ]
        }
      ],
      "source": [
        "# 1.Implement Naïve Bayes method using scikit-learn library\n",
        "# importing packages\n",
        "\n",
        "import pandas as pd\n",
        "from sklearn.svm import SVC\n",
        "from sklearn.naive_bayes import GaussianNB\n",
        "from sklearn.model_selection import train_test_split\n",
        "import time\n",
        "import warnings\n",
        "from sklearn import metrics\n",
        "# read the csv data into pandas data frame\n",
        "glass_df = pd.read_csv(\"glass.csv\")\n",
        "\n",
        "# Splitting the data into training and testing sets\n",
        "X_train, X_test = train_test_split(glass_df, test_size=0.2, random_state=int(time.time()))\n",
        "\n",
        "# features columns\n",
        "features = [\n",
        "    \"RI\", \"Na\", \"Mg\", \"Al\", \"Si\", \"K\", \"Ca\", \"Ba\", \"Fe\"\n",
        "]\n",
        "\n",
        "# Naïve Bayes Classifier initilizing\n",
        "gauss_clf = GaussianNB()\n",
        "# train the classifier\n",
        "gauss_clf.fit(\n",
        "    X_train[features].values,\n",
        "    X_train[\"Type\"]\n",
        ")\n",
        "\n",
        "# make predictions\n",
        "y_pred = gauss_clf.predict(X_test[features])\n",
        "print(\"Naïve Bayes\\nTotal number of points: {}\\nMislabeled points : {}\\nAccuracy {:05.2f}%\"\n",
        "      .format(\n",
        "          X_test.shape[0],\n",
        "          (X_test[\"Type\"] != y_pred).sum(),\n",
        "          100 * (1 - (X_test[\"Type\"] != y_pred).sum() / X_test.shape[0])\n",
        "      ))\n",
        "print(\"\\n\")\n",
        "\n",
        "\n",
        "# Naïve Bayes Classifier performance\n",
        "print(metrics.classification_report(X_test[\"Type\"], y_pred))\n",
        "\n"
      ]
    },
    {
      "cell_type": "code",
      "execution_count": 10,
      "metadata": {
        "colab": {
          "base_uri": "https://localhost:8080/"
        },
        "id": "va5B5bW3htX-",
        "outputId": "423cd513-44cb-4c42-c0f2-b5defe024c54"
      },
      "outputs": [
        {
          "output_type": "stream",
          "name": "stdout",
          "text": [
            "Linear SVM accuracy is: 69.77\n",
            "SVM RBF model accuracy is: 25.58\n",
            "\n",
            "\n",
            "              precision    recall  f1-score   support\n",
            "\n",
            "           1       0.00      0.00      0.00        20\n",
            "           2       0.26      1.00      0.41        11\n",
            "           3       0.00      0.00      0.00         1\n",
            "           5       0.00      0.00      0.00         2\n",
            "           6       0.00      0.00      0.00         1\n",
            "           7       0.00      0.00      0.00         8\n",
            "\n",
            "    accuracy                           0.26        43\n",
            "   macro avg       0.04      0.17      0.07        43\n",
            "weighted avg       0.07      0.26      0.10        43\n",
            "\n"
          ]
        },
        {
          "output_type": "stream",
          "name": "stderr",
          "text": [
            "/usr/local/lib/python3.10/dist-packages/sklearn/base.py:432: UserWarning: X has feature names, but SVC was fitted without feature names\n",
            "  warnings.warn(\n",
            "/usr/local/lib/python3.10/dist-packages/sklearn/base.py:432: UserWarning: X has feature names, but SVC was fitted without feature names\n",
            "  warnings.warn(\n",
            "/usr/local/lib/python3.10/dist-packages/sklearn/metrics/_classification.py:1344: UndefinedMetricWarning: Precision and F-score are ill-defined and being set to 0.0 in labels with no predicted samples. Use `zero_division` parameter to control this behavior.\n",
            "  _warn_prf(average, modifier, msg_start, len(result))\n",
            "/usr/local/lib/python3.10/dist-packages/sklearn/metrics/_classification.py:1344: UndefinedMetricWarning: Precision and F-score are ill-defined and being set to 0.0 in labels with no predicted samples. Use `zero_division` parameter to control this behavior.\n",
            "  _warn_prf(average, modifier, msg_start, len(result))\n",
            "/usr/local/lib/python3.10/dist-packages/sklearn/metrics/_classification.py:1344: UndefinedMetricWarning: Precision and F-score are ill-defined and being set to 0.0 in labels with no predicted samples. Use `zero_division` parameter to control this behavior.\n",
            "  _warn_prf(average, modifier, msg_start, len(result))\n"
          ]
        }
      ],
      "source": [
        "# 2. Implement linear SVM method using scikit-learn\n",
        "# Linear Support Vector Classification with Linear kernel\n",
        "import pandas as pd\n",
        "from sklearn.svm import SVC\n",
        "from sklearn.naive_bayes import GaussianNB\n",
        "from sklearn.model_selection import train_test_split\n",
        "import time\n",
        "import warnings\n",
        "from sklearn import metrics\n",
        "svcLin = SVC(kernel='linear')\n",
        "# train linear SVM model\n",
        "svcLin.fit(\n",
        "    X_train[features].values,\n",
        "    X_train[\"Type\"]\n",
        ")\n",
        "Y_pred = svcLin.predict(X_test[features])\n",
        "\n",
        "\n",
        "# Linear SVM Model performance\n",
        "acc_svc = round(svcLin.score(\n",
        "    X_test[features].values, X_test[\"Type\"]) * 100, 2)\n",
        "print(\"Linear SVM accuracy is:\", acc_svc)\n",
        "\n",
        "\n",
        "# Support vector classifier with the radial basis function kernel\n",
        "svcRbf = SVC(kernel='rbf')\n",
        "svcRbf.fit(\n",
        "    X_train[features].values,\n",
        "    X_train[\"Type\"]\n",
        ")\n",
        "\n",
        "# model predictions\n",
        "Y_pred = svcRbf.predict(X_test[features])\n",
        "\n",
        "\n",
        "# SVM RBF Model performance\n",
        "acc_svc = round(svcRbf.score(\n",
        "    X_test[features].values, X_test[\"Type\"]) * 100, 2)\n",
        "print(\"SVM RBF model accuracy is:\", acc_svc)\n",
        "print(\"\\n\")\n",
        "print(metrics.classification_report(X_test[\"Type\"],Y_pred))"
      ]
    },
    {
      "cell_type": "code",
      "execution_count": 12,
      "metadata": {
        "colab": {
          "base_uri": "https://localhost:8080/",
          "height": 489
        },
        "id": "N9Wg720JhtX_",
        "outputId": "af98d2c4-0a70-418c-d469-02588789b4a8"
      },
      "outputs": [
        {
          "output_type": "stream",
          "name": "stdout",
          "text": [
            "Mean Squared Error: 21026037.329511296\n"
          ]
        },
        {
          "output_type": "display_data",
          "data": {
            "text/plain": [
              "<Figure size 640x480 with 1 Axes>"
            ],
            "image/png": "[encoded data removed]"
          },
          "metadata": {}
        }
      ],
      "source": [
        "# 3. Implement Linear Regression using scikit-learn\n",
        "# Simple Linear Regression\n",
        "# Importing the libraries\n",
        "\n",
        "import pandas as pd\n",
        "import numpy as np\n",
        "import matplotlib.pyplot as plt\n",
        "from sklearn.model_selection import train_test_split\n",
        "from sklearn.linear_model import LinearRegression\n",
        "from sklearn.metrics import mean_squared_error\n",
        "\n",
        "# a. Importing the datasets\n",
        "\n",
        "data = pd.read_csv(\"Salary_Data.csv\")\n",
        "\n",
        "\n",
        "X = data[[\"YearsExperience\"]]\n",
        "Y = data[\"Salary\"]\n",
        "\n",
        "# b. Splitting the dataset into the Training set and Test set\n",
        "X_train, X_test, Y_train, Y_test = train_test_split(X, Y, test_size=0.33, random_state=0)\n",
        "\n",
        "# c. Fitting Simple Linear Regression to the training set\n",
        "regressor = LinearRegression()\n",
        "regressor.fit(X_train, Y_train)\n",
        "\n",
        "# c. Predicting the Test set result\n",
        "y_pred = regressor.predict(X_test)\n",
        "\n",
        "# d. Calculate Mean Squared Error\n",
        "meanSq = mean_squared_error(Y_test, y_pred)\n",
        "print(\"Mean Squared Error:\", meanSq)\n",
        "\n",
        "\n",
        "# e. Visualising the Test set results\n",
        "plt.scatter(X_train, Y_train, color='red')\n",
        "plt.scatter(X_test, Y_test, color='green')\n",
        "plt.plot(X_train, regressor.predict(X_train), color='blue')\n",
        "plt.title('Salary vs Experience (Training and Test data)')\n",
        "plt.xlabel('Years of Experience')\n",
        "plt.ylabel('Salary')\n",
        "plt.show()"
      ]
    }
  ],
  "metadata": {
    "kernelspec": {
      "display_name": "Python 3",
      "language": "python",
      "name": "python3"
    },
    "language_info": {
      "codemirror_mode": {
        "name": "ipython",
        "version": 3
      },
      "file_extension": ".py",
      "mimetype": "text/x-python",
      "name": "python",
      "nbconvert_exporter": "python",
      "pygments_lexer": "ipython3",
      "version": "3.11.4"
    },
    "orig_nbformat": 4,
    "colab": {
      "provenance": []
    }
  },
  "nbformat": 4,
  "nbformat_minor": 0
}