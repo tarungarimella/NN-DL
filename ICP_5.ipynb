{
  "nbformat": 4,
  "nbformat_minor": 0,
  "metadata": {
    "colab": {
      "provenance": [],
      "gpuType": "T4"
    },
    "kernelspec": {
      "name": "python3",
      "display_name": "Python 3"
    },
    "language_info": {
      "name": "python"
    },
    "gpuClass": "standard"
  },
  "cells": [
    {
      "cell_type": "code",
      "execution_count": 1,
      "metadata": {
        "id": "qYbkD6c5WJON"
      },
      "outputs": [],
      "source": [
        "import pandas as pd #Basic packages for creating dataframes and loading dataset\n",
        "import numpy as np\n",
        "\n",
        "import matplotlib.pyplot as plt #Package for visualization\n",
        "\n",
        "import re #importing package for Regular expression operations\n",
        "\n",
        "from sklearn.model_selection import train_test_split #Package for splitting the data\n",
        "\n",
        "from sklearn.preprocessing import LabelEncoder #Package for conversion of categorical to Numerical\n",
        "\n",
        "from keras.preprocessing.text import Tokenizer #Tokenization\n",
        "from tensorflow.keras.preprocessing.sequence import pad_sequences #Add zeros or crop based on the length\n",
        "from keras.models import Sequential #Sequential Neural Network\n",
        "from keras.layers import Dense, Embedding, LSTM, SpatialDropout1D #For layers in Neural Network\n",
        "from keras.utils.np_utils import to_categorical"
      ]
    },
    {
      "cell_type": "code",
      "source": [
        "import pandas as pd\n",
        "\n",
        "# Load the dataset as a Pandas DataFrame\n",
        "from google.colab import drive\n",
        "drive.mount('/content/gdrive')\n",
        "path_to_csv = '/content/gdrive/My Drive/Sentiment.csv'\n",
        "data = pd.read_csv(path_to_csv)\n",
        "\n",
        "# Select only the necessary columns 'text' and 'sentiment'\n",
        "mask = data.columns.isin(['text', 'sentiment'])\n",
        "data = data.loc[:, mask]\n",
        "\n"
      ],
      "metadata": {
        "id": "cv9qZuvTgB4I",
        "colab": {
          "base_uri": "https://localhost:8080/"
        },
        "outputId": "9eed3bac-ba6b-44db-f98c-62d8d0e21852"
      },
      "execution_count": 6,
      "outputs": [
        {
          "output_type": "stream",
          "name": "stdout",
          "text": [
            "Drive already mounted at /content/gdrive; to attempt to forcibly remount, call drive.mount(\"/content/gdrive\", force_remount=True).\n"
          ]
        }
      ]
    },
    {
      "cell_type": "code",
      "source": [
        "# Keeping only the necessary columns\n",
        "data['text'] = data['text'].apply(lambda x: x.lower())\n",
        "data['text'] = data['text'].apply((lambda x: re.sub('[^a-zA-z0-9\\s]', '', x)))"
      ],
      "metadata": {
        "id": "NUYP121giJwz"
      },
      "execution_count": 7,
      "outputs": []
    },
    {
      "cell_type": "code",
      "source": [
        "for idx, row in data.iterrows():\n",
        "    row[0] = row[0].replace('rt', ' ') #Removing Retweets"
      ],
      "metadata": {
        "id": "KqUN5B6-iyJ6"
      },
      "execution_count": 8,
      "outputs": []
    },
    {
      "cell_type": "code",
      "source": [
        "max_fatures = 2000\n",
        "tokenizer = Tokenizer(num_words=max_fatures, split=' ') #Maximum words is 2000 to tokenize sentence\n",
        "tokenizer.fit_on_texts(data['text'].values)\n",
        "X = tokenizer.texts_to_sequences(data['text'].values) #taking values to feature matrix"
      ],
      "metadata": {
        "id": "jn27s_k6i2gh"
      },
      "execution_count": 9,
      "outputs": []
    },
    {
      "cell_type": "code",
      "source": [
        "X = pad_sequences(X) #Padding the feature matrix\n",
        "\n",
        "embed_dim = 128 #Dimension of the Embedded layer\n",
        "lstm_out = 196 #Long short-term memory (LSTM) layer neurons"
      ],
      "metadata": {
        "id": "THDaKJfUi6BE"
      },
      "execution_count": 10,
      "outputs": []
    },
    {
      "cell_type": "code",
      "source": [
        "def createmodel():\n",
        "    model = Sequential() #Sequential Neural Network\n",
        "    model.add(Embedding(max_fatures, embed_dim,input_length = X.shape[1])) #input dimension 2000 Neurons, output dimension 128 Neurons\n",
        "    model.add(LSTM(lstm_out, dropout=0.2, recurrent_dropout=0.2)) #Drop out 20%, 196 output Neurons, recurrent dropout 20%\n",
        "    model.add(Dense(3,activation='softmax')) #3 output neurons[positive, Neutral, Negative], softmax as activation\n",
        "    model.compile(loss = 'categorical_crossentropy', optimizer='adam',metrics = ['accuracy']) #Compiling the model\n",
        "    return model"
      ],
      "metadata": {
        "id": "5xfHJdkCi7bL"
      },
      "execution_count": 11,
      "outputs": []
    },
    {
      "cell_type": "code",
      "source": [
        "labelencoder = LabelEncoder() #Applying label Encoding on the label matrix\n",
        "integer_encoded = labelencoder.fit_transform(data['sentiment']) #fitting the model\n",
        "y = to_categorical(integer_encoded)\n",
        "X_train, X_test, Y_train, Y_test = train_test_split(X,y, test_size = 0.33, random_state = 42) #67% training data, 33% test data split"
      ],
      "metadata": {
        "id": "uyL8RT0sjEil"
      },
      "execution_count": 12,
      "outputs": []
    },
    {
      "cell_type": "code",
      "source": [
        "batch_size = 32 #Batch size 32\n",
        "model = createmodel() #Function call to Sequential Neural Network\n",
        "model.fit(X_train, Y_train, epochs = 1, batch_size=batch_size, verbose = 2) #verbose the higher, the more messages\n",
        "score,acc = model.evaluate(X_test,Y_test,verbose=2,batch_size=batch_size) #evaluating the model\n",
        "print(score)\n",
        "print(acc)"
      ],
      "metadata": {
        "colab": {
          "base_uri": "https://localhost:8080/"
        },
        "id": "LKRTesV3jH8f",
        "outputId": "16737077-09de-4b5d-9c62-e00499e7e664"
      },
      "execution_count": 13,
      "outputs": [
        {
          "output_type": "stream",
          "name": "stdout",
          "text": [
            "291/291 - 59s - loss: 0.8282 - accuracy: 0.6452 - 59s/epoch - 203ms/step\n",
            "144/144 - 4s - loss: 0.7628 - accuracy: 0.6758 - 4s/epoch - 27ms/step\n",
            "0.7627553343772888\n",
            "0.6758409738540649\n"
          ]
        }
      ]
    },
    {
      "cell_type": "code",
      "source": [
        "print(model.metrics_names) #metrics of the model"
      ],
      "metadata": {
        "colab": {
          "base_uri": "https://localhost:8080/"
        },
        "id": "Fp8SKQQHjo6u",
        "outputId": "d46dfdd6-0168-4782-d339-dbf94fd73a3e"
      },
      "execution_count": 14,
      "outputs": [
        {
          "output_type": "stream",
          "name": "stdout",
          "text": [
            "['loss', 'accuracy']\n"
          ]
        }
      ]
    },
    {
      "cell_type": "markdown",
      "source": [
        "#1. Save the model and use the saved model to predict on new text data (ex, “A lot of good things are happening. We are respected again throughout the world, and that's a great thing.@realDonaldTrump”)"
      ],
      "metadata": {
        "id": "jpxYN-Fvjsk7"
      }
    },
    {
      "cell_type": "code",
      "source": [
        "model.save('sentimentAnalysis.h5') #Saving the model"
      ],
      "metadata": {
        "id": "xuDGCrpzjwTi"
      },
      "execution_count": 15,
      "outputs": []
    },
    {
      "cell_type": "code",
      "source": [
        "from keras.models import load_model #Importing the package for importing the saved model\n",
        "model= load_model('sentimentAnalysis.h5') #loading the saved model"
      ],
      "metadata": {
        "id": "1SYV5LKXj1qJ"
      },
      "execution_count": 16,
      "outputs": []
    },
    {
      "cell_type": "code",
      "source": [
        "print(integer_encoded)\n",
        "print(data['sentiment'])"
      ],
      "metadata": {
        "colab": {
          "base_uri": "https://localhost:8080/"
        },
        "id": "_7qb5jdUj5Mw",
        "outputId": "d09631d5-ee65-4ea3-aeb0-ba69223400d0"
      },
      "execution_count": 17,
      "outputs": [
        {
          "output_type": "stream",
          "name": "stdout",
          "text": [
            "[1 2 1 ... 2 0 2]\n",
            "0         Neutral\n",
            "1        Positive\n",
            "2         Neutral\n",
            "3        Positive\n",
            "4        Positive\n",
            "           ...   \n",
            "13866    Negative\n",
            "13867    Positive\n",
            "13868    Positive\n",
            "13869    Negative\n",
            "13870    Positive\n",
            "Name: sentiment, Length: 13871, dtype: object\n"
          ]
        }
      ]
    },
    {
      "cell_type": "code",
      "source": [
        "# Predicting on the text data\n",
        "sentence = ['A lot of good things are happening. We are respected again throughout the world, and that is a great thing.@realDonaldTrump']\n",
        "sentence = tokenizer.texts_to_sequences(sentence) # Tokenizing the sentence\n",
        "sentence = pad_sequences(sentence, maxlen=28, dtype='int32', value=0) # Padding the sentence\n",
        "sentiment_probs = model.predict(sentence, batch_size=1, verbose=2)[0] # Predicting the sentence text\n",
        "sentiment = np.argmax(sentiment_probs)\n",
        "\n",
        "print(sentiment_probs)\n",
        "if sentiment == 0:\n",
        "    print(\"Neutral\")\n",
        "elif sentiment < 0:\n",
        "    print(\"Negative\")\n",
        "elif sentiment > 0:\n",
        "    print(\"Positive\")\n",
        "else:\n",
        "    print(\"Cannot be determined\")\n"
      ],
      "metadata": {
        "colab": {
          "base_uri": "https://localhost:8080/"
        },
        "id": "Mn1aBmFDj-ga",
        "outputId": "a9110bcd-3bdc-49ab-83af-10fe4e7a3676"
      },
      "execution_count": 18,
      "outputs": [
        {
          "output_type": "stream",
          "name": "stdout",
          "text": [
            "1/1 - 0s - 330ms/epoch - 330ms/step\n",
            "[0.54457444 0.1539832  0.30144235]\n",
            "Neutral\n"
          ]
        }
      ]
    },
    {
      "cell_type": "markdown",
      "source": [
        "#2. Apply GridSearchCV on the source code provided in the class"
      ],
      "metadata": {
        "id": "VeT981q5kDW9"
      }
    },
    {
      "cell_type": "code",
      "source": [
        "from keras.wrappers.scikit_learn import KerasClassifier #importing Keras classifier\n",
        "from sklearn.model_selection import GridSearchCV #importing Grid search CV\n",
        "\n",
        "model = KerasClassifier(build_fn=createmodel,verbose=2) #initiating model to test performance by applying multiple hyper parameters\n",
        "batch_size= [10, 20, 40] #hyper parameter batch_size\n",
        "epochs = [1, 2] #hyper parameter no. of epochs\n",
        "param_grid= {'batch_size':batch_size, 'epochs':epochs} #creating dictionary for batch size, no. of epochs\n",
        "grid  = GridSearchCV(estimator=model, param_grid=param_grid) #Applying dictionary with hyper parameters\n",
        "grid_result= grid.fit(X_train,Y_train) #Fitting the model\n",
        "# summarize results\n",
        "print(\"Best: %f using %s\" % (grid_result.best_score_, grid_result.best_params_)) #best score, best hyper parameters"
      ],
      "metadata": {
        "colab": {
          "base_uri": "https://localhost:8080/"
        },
        "id": "RiDZ7_SW3tAp",
        "outputId": "cf460a81-3861-41e7-be1e-064cdc9cb631"
      },
      "execution_count": 19,
      "outputs": [
        {
          "output_type": "stream",
          "name": "stderr",
          "text": [
            "<ipython-input-19-6c99b49150f4>:4: DeprecationWarning: KerasClassifier is deprecated, use Sci-Keras (https://github.com/adriangb/scikeras) instead. See https://www.adriangb.com/scikeras/stable/migration.html for help migrating.\n",
            "  model = KerasClassifier(build_fn=createmodel,verbose=2) #initiating model to test performance by applying multiple hyper parameters\n"
          ]
        },
        {
          "output_type": "stream",
          "name": "stdout",
          "text": [
            "744/744 - 119s - loss: 0.8290 - accuracy: 0.6468 - 119s/epoch - 159ms/step\n",
            "186/186 - 3s - loss: 0.7538 - accuracy: 0.6616 - 3s/epoch - 15ms/step\n",
            "744/744 - 117s - loss: 0.8211 - accuracy: 0.6480 - 117s/epoch - 158ms/step\n",
            "186/186 - 3s - loss: 0.7495 - accuracy: 0.6746 - 3s/epoch - 16ms/step\n",
            "744/744 - 117s - loss: 0.8226 - accuracy: 0.6412 - 117s/epoch - 157ms/step\n",
            "186/186 - 5s - loss: 0.7495 - accuracy: 0.6767 - 5s/epoch - 25ms/step\n",
            "744/744 - 116s - loss: 0.8231 - accuracy: 0.6471 - 116s/epoch - 156ms/step\n",
            "186/186 - 3s - loss: 0.7575 - accuracy: 0.6781 - 3s/epoch - 15ms/step\n",
            "744/744 - 116s - loss: 0.8207 - accuracy: 0.6510 - 116s/epoch - 156ms/step\n",
            "186/186 - 3s - loss: 0.7680 - accuracy: 0.6685 - 3s/epoch - 15ms/step\n",
            "Epoch 1/2\n",
            "744/744 - 121s - loss: 0.8240 - accuracy: 0.6497 - 121s/epoch - 163ms/step\n",
            "Epoch 2/2\n",
            "744/744 - 118s - loss: 0.6766 - accuracy: 0.7104 - 118s/epoch - 158ms/step\n",
            "186/186 - 3s - loss: 0.7539 - accuracy: 0.6805 - 3s/epoch - 17ms/step\n",
            "Epoch 1/2\n",
            "744/744 - 116s - loss: 0.8267 - accuracy: 0.6402 - 116s/epoch - 156ms/step\n",
            "Epoch 2/2\n",
            "744/744 - 118s - loss: 0.6796 - accuracy: 0.7148 - 118s/epoch - 158ms/step\n",
            "186/186 - 5s - loss: 0.7524 - accuracy: 0.6853 - 5s/epoch - 24ms/step\n",
            "Epoch 1/2\n",
            "744/744 - 120s - loss: 0.8214 - accuracy: 0.6489 - 120s/epoch - 161ms/step\n",
            "Epoch 2/2\n",
            "744/744 - 114s - loss: 0.6714 - accuracy: 0.7171 - 114s/epoch - 153ms/step\n",
            "186/186 - 4s - loss: 0.7395 - accuracy: 0.6837 - 4s/epoch - 20ms/step\n",
            "Epoch 1/2\n",
            "744/744 - 123s - loss: 0.8298 - accuracy: 0.6383 - 123s/epoch - 165ms/step\n",
            "Epoch 2/2\n",
            "744/744 - 124s - loss: 0.6799 - accuracy: 0.7135 - 124s/epoch - 167ms/step\n",
            "186/186 - 3s - loss: 0.7560 - accuracy: 0.6771 - 3s/epoch - 15ms/step\n",
            "Epoch 1/2\n",
            "744/744 - 124s - loss: 0.8194 - accuracy: 0.6499 - 124s/epoch - 167ms/step\n",
            "Epoch 2/2\n",
            "744/744 - 117s - loss: 0.6673 - accuracy: 0.7177 - 117s/epoch - 157ms/step\n",
            "186/186 - 3s - loss: 0.7768 - accuracy: 0.6679 - 3s/epoch - 16ms/step\n",
            "372/372 - 66s - loss: 0.8333 - accuracy: 0.6433 - 66s/epoch - 178ms/step\n",
            "93/93 - 4s - loss: 0.7436 - accuracy: 0.6686 - 4s/epoch - 38ms/step\n",
            "372/372 - 73s - loss: 0.8255 - accuracy: 0.6496 - 73s/epoch - 195ms/step\n",
            "93/93 - 2s - loss: 0.7681 - accuracy: 0.6751 - 2s/epoch - 24ms/step\n",
            "372/372 - 70s - loss: 0.8352 - accuracy: 0.6388 - 70s/epoch - 187ms/step\n",
            "93/93 - 2s - loss: 0.7541 - accuracy: 0.6880 - 2s/epoch - 21ms/step\n",
            "372/372 - 68s - loss: 0.8284 - accuracy: 0.6440 - 68s/epoch - 182ms/step\n",
            "93/93 - 2s - loss: 0.7642 - accuracy: 0.6771 - 2s/epoch - 23ms/step\n",
            "372/372 - 75s - loss: 0.8302 - accuracy: 0.6464 - 75s/epoch - 203ms/step\n",
            "93/93 - 3s - loss: 0.8472 - accuracy: 0.6577 - 3s/epoch - 28ms/step\n",
            "Epoch 1/2\n",
            "372/372 - 68s - loss: 0.8337 - accuracy: 0.6430 - 68s/epoch - 183ms/step\n",
            "Epoch 2/2\n",
            "372/372 - 66s - loss: 0.6846 - accuracy: 0.7117 - 66s/epoch - 179ms/step\n",
            "93/93 - 2s - loss: 0.7288 - accuracy: 0.6832 - 2s/epoch - 23ms/step\n",
            "Epoch 1/2\n",
            "372/372 - 67s - loss: 0.8241 - accuracy: 0.6441 - 67s/epoch - 180ms/step\n",
            "Epoch 2/2\n",
            "372/372 - 66s - loss: 0.6871 - accuracy: 0.7116 - 66s/epoch - 176ms/step\n",
            "93/93 - 2s - loss: 0.7472 - accuracy: 0.6805 - 2s/epoch - 23ms/step\n",
            "Epoch 1/2\n",
            "372/372 - 72s - loss: 0.8327 - accuracy: 0.6372 - 72s/epoch - 193ms/step\n",
            "Epoch 2/2\n",
            "372/372 - 70s - loss: 0.6728 - accuracy: 0.7103 - 70s/epoch - 189ms/step\n",
            "93/93 - 3s - loss: 0.7563 - accuracy: 0.6859 - 3s/epoch - 34ms/step\n",
            "Epoch 1/2\n",
            "372/372 - 68s - loss: 0.8360 - accuracy: 0.6375 - 68s/epoch - 182ms/step\n",
            "Epoch 2/2\n",
            "372/372 - 68s - loss: 0.6784 - accuracy: 0.7107 - 68s/epoch - 183ms/step\n",
            "93/93 - 2s - loss: 0.7409 - accuracy: 0.6792 - 2s/epoch - 21ms/step\n",
            "Epoch 1/2\n",
            "372/372 - 69s - loss: 0.8190 - accuracy: 0.6468 - 69s/epoch - 185ms/step\n",
            "Epoch 2/2\n",
            "372/372 - 63s - loss: 0.6662 - accuracy: 0.7185 - 63s/epoch - 168ms/step\n",
            "93/93 - 2s - loss: 0.7722 - accuracy: 0.6706 - 2s/epoch - 21ms/step\n",
            "186/186 - 44s - loss: 0.8456 - accuracy: 0.6392 - 44s/epoch - 239ms/step\n",
            "47/47 - 2s - loss: 0.7593 - accuracy: 0.6541 - 2s/epoch - 47ms/step\n",
            "186/186 - 45s - loss: 0.8533 - accuracy: 0.6329 - 45s/epoch - 241ms/step\n",
            "47/47 - 2s - loss: 0.7877 - accuracy: 0.6520 - 2s/epoch - 40ms/step\n",
            "186/186 - 44s - loss: 0.8390 - accuracy: 0.6357 - 44s/epoch - 234ms/step\n",
            "47/47 - 1s - loss: 0.7689 - accuracy: 0.6638 - 1s/epoch - 30ms/step\n",
            "186/186 - 46s - loss: 0.8392 - accuracy: 0.6358 - 46s/epoch - 250ms/step\n",
            "47/47 - 1s - loss: 0.7816 - accuracy: 0.6598 - 1s/epoch - 31ms/step\n",
            "186/186 - 45s - loss: 0.8444 - accuracy: 0.6370 - 45s/epoch - 241ms/step\n",
            "47/47 - 2s - loss: 0.7979 - accuracy: 0.6647 - 2s/epoch - 43ms/step\n",
            "Epoch 1/2\n",
            "186/186 - 44s - loss: 0.8452 - accuracy: 0.6363 - 44s/epoch - 237ms/step\n",
            "Epoch 2/2\n",
            "186/186 - 40s - loss: 0.6954 - accuracy: 0.7024 - 40s/epoch - 213ms/step\n",
            "47/47 - 2s - loss: 0.7277 - accuracy: 0.6810 - 2s/epoch - 50ms/step\n",
            "Epoch 1/2\n",
            "186/186 - 43s - loss: 0.8428 - accuracy: 0.6369 - 43s/epoch - 233ms/step\n",
            "Epoch 2/2\n",
            "186/186 - 38s - loss: 0.6990 - accuracy: 0.6999 - 38s/epoch - 205ms/step\n",
            "47/47 - 1s - loss: 0.7353 - accuracy: 0.6815 - 1s/epoch - 29ms/step\n",
            "Epoch 1/2\n",
            "186/186 - 45s - loss: 0.8391 - accuracy: 0.6380 - 45s/epoch - 244ms/step\n",
            "Epoch 2/2\n",
            "186/186 - 41s - loss: 0.6858 - accuracy: 0.7076 - 41s/epoch - 219ms/step\n",
            "47/47 - 2s - loss: 0.7515 - accuracy: 0.6902 - 2s/epoch - 33ms/step\n",
            "Epoch 1/2\n",
            "186/186 - 44s - loss: 0.8469 - accuracy: 0.6350 - 44s/epoch - 238ms/step\n",
            "Epoch 2/2\n",
            "186/186 - 41s - loss: 0.6873 - accuracy: 0.7042 - 41s/epoch - 222ms/step\n",
            "47/47 - 2s - loss: 0.7438 - accuracy: 0.6771 - 2s/epoch - 34ms/step\n",
            "Epoch 1/2\n",
            "186/186 - 43s - loss: 0.8416 - accuracy: 0.6370 - 43s/epoch - 233ms/step\n",
            "Epoch 2/2\n",
            "186/186 - 41s - loss: 0.6743 - accuracy: 0.7132 - 41s/epoch - 219ms/step\n",
            "47/47 - 2s - loss: 0.7913 - accuracy: 0.6755 - 2s/epoch - 33ms/step\n",
            "Epoch 1/2\n",
            "233/233 - 57s - loss: 0.8277 - accuracy: 0.6416 - 57s/epoch - 245ms/step\n",
            "Epoch 2/2\n",
            "233/233 - 51s - loss: 0.6846 - accuracy: 0.7085 - 51s/epoch - 220ms/step\n",
            "Best: 0.681049 using {'batch_size': 40, 'epochs': 2}\n"
          ]
        }
      ]
    }
  ]
}